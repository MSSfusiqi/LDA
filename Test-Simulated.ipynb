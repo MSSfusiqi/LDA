{
 "cells": [
  {
   "cell_type": "code",
   "execution_count": 1,
   "metadata": {
    "collapsed": true
   },
   "outputs": [],
   "source": [
    "from ldapkg.mymodel import LDA_OPT\n",
    "from collections import Counter\n",
    "import numpy as np"
   ]
  },
  {
   "cell_type": "code",
   "execution_count": 6,
   "metadata": {
    "collapsed": true
   },
   "outputs": [],
   "source": [
    "M = 20 # Document numbers\n",
    "V = 220\n",
    "k = 3\n",
    "N_d = np.random.randint(15, 20, M)\n",
    "vocabulary = list(range(V))\n",
    "\n",
    "np.random.seed(12345)\n",
    "# Generate alpha\n",
    "alpha_known = np.array([0.15, 0.35, 0.5])\n",
    "\n",
    "# Generate beta\n",
    "beta = np.random.uniform(0, 0.5, size = (V, k))\n",
    "for i in range(k):\n",
    "    for j in range(V):\n",
    "        if j < (i+1)/k*V and j>=i/k*V:\n",
    "           beta[j,i] += 0.5\n",
    "beta_known = beta/np.sum(beta, 0)\n",
    "\n",
    "# Generate theta\n",
    "theta = np.random.dirichlet(alpha_known, size = M)\n",
    "\n",
    "# Generate document\n",
    "doc = []\n",
    "for m in range(M):\n",
    "    doc_single = []\n",
    "    for n in range(N_d[m]):\n",
    "        z = np.random.multinomial(1, theta[m]).reshape((k,1)) #choose a topic\n",
    "        prob = beta_known @ z\n",
    "        value = np.random.multinomial(1,  prob[:,0])\n",
    "        word = np.where(value==1)[0][0]\n",
    "        doc_single.append(word)\n",
    "    doc.append(doc_single)\n",
    "\n",
    "\n",
    "\n",
    "doc_model = []\n",
    "\n",
    "# Generate corpus\n",
    "for m in range(M):\n",
    "    cnt = Counter()\n",
    "    for word in doc[m]:\n",
    "        cnt[word] += 1\n",
    "    doc_model.append(dict(cnt))"
   ]
  },
  {
   "cell_type": "code",
   "execution_count": 7,
   "metadata": {
    "collapsed": true
   },
   "outputs": [],
   "source": [
    "# Implement LDA model\n",
    "lda_model = LDA_OPT(3, 1500, 500, 500)\n",
    "alpha_model, beta_model = lda_model.fit(doc_model, vocabulary)"
   ]
  },
  {
   "cell_type": "markdown",
   "metadata": {},
   "source": [
    "- Show the resuls"
   ]
  },
  {
   "cell_type": "code",
   "execution_count": 8,
   "metadata": {},
   "outputs": [
    {
     "data": {
      "text/plain": [
       "array([ 0.49252064,  0.34149931,  0.16598005])"
      ]
     },
     "execution_count": 8,
     "metadata": {},
     "output_type": "execute_result"
    }
   ],
   "source": [
    "alpha_model"
   ]
  },
  {
   "cell_type": "code",
   "execution_count": 9,
   "metadata": {},
   "outputs": [
    {
     "data": {
      "text/plain": [
       "0.005975641752468671"
      ]
     },
     "execution_count": 9,
     "metadata": {},
     "output_type": "execute_result"
    }
   ],
   "source": [
    "# Average difference in beta\n",
    "beta_model[:,[0,1,2]] = beta_model[:,[2,1,0]] ## Rearrange the column\n",
    "np.mean(np.abs(beta_model-beta_known))"
   ]
  }
 ],
 "metadata": {
  "kernelspec": {
   "display_name": "Python 3",
   "language": "python",
   "name": "python3"
  },
  "language_info": {
   "codemirror_mode": {
    "name": "ipython",
    "version": 3
   },
   "file_extension": ".py",
   "mimetype": "text/x-python",
   "name": "python",
   "nbconvert_exporter": "python",
   "pygments_lexer": "ipython3",
   "version": "3.6.3"
  }
 },
 "nbformat": 4,
 "nbformat_minor": 2
}
